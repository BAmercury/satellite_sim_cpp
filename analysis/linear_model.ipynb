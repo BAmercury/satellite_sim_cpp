{
 "cells": [
  {
   "cell_type": "code",
   "execution_count": 263,
   "metadata": {},
   "outputs": [],
   "source": [
    "from sympy.physics.mechanics import *\n",
    "from sympy import symbols, trigsimp\n",
    "from numpy import deg2rad, rad2deg, array, zeros, linspace, pi\n",
    "from scipy.integrate import odeint\n",
    "from sympy.functions.elementary.trigonometric import sin, cos\n",
    "from sympy import Matrix\n",
    "from sympy import ones\n",
    "from sympy.vector import CoordSys3D, matrix_to_vector\n",
    "from sympy import simplify\n",
    "from sympy import expand\n",
    "from sympy import symbols, solve\n",
    "from sympy import ratsimp\n",
    "from sympy.physics.vector import init_vprinting\n",
    "import matplotlib.pyplot as plt"
   ]
  },
  {
   "cell_type": "code",
   "execution_count": 285,
   "metadata": {},
   "outputs": [],
   "source": [
    "# Define state vector\n",
    "\n",
    "# ZXY Euler angles: Roll Pitch Yaw Euler angles in inertial frame\n",
    "theta, phi, psi = dynamicsymbols('theta phi psi') # drone orientation expressed in inertial frame\n",
    "thetadot, phidot, psidot = dynamicsymbols('theta phi psi', 1) # drone angular velocity expressed in inertial frame\n",
    "\n",
    "\n",
    "\n",
    "# X Y Z translation in inertial frame\n",
    "x, y, z = dynamicsymbols('x y z')\n",
    "xd, yd, zd = dynamicsymbols('x y z', 1)\n",
    "# Generalized speeds (Body rates)\n",
    "# Define the translation speeds in the inertial frame\n",
    "# Define the rotational speeds in the body frame to simplify the process, otherwise the equations come out pretty ugly\n",
    "# u1 = xd\n",
    "# u2 = yd\n",
    "# u3 = zd\n",
    "u1, u2, u3, w1, w2, w3 = dynamicsymbols('u1 u2 u3 w1 w2 w3') # body rates\n",
    "u1d, u2d, u3d, w1dot, w2dot, w3dot = dynamicsymbols('u1 u2 u3 w1 w2 w3', 1) # body ang accel\n",
    "\n",
    "\n",
    "# Define Reference Frames\n",
    "Nrf = ReferenceFrame('Nrf') # Inertial Reference Frame\n",
    "# Body Fixed Reference Frame\n",
    "# Z-X-Y Euler rotation, will write the DCM directly for sympy\n",
    "cpsi = cos(psi)\n",
    "spsi = sin(psi)\n",
    "ctheta = cos(theta)\n",
    "stheta = sin(theta)\n",
    "cphi = cos(phi)\n",
    "sphi = sin(phi)\n",
    "\n",
    "c11 = cpsi*ctheta - sphi*spsi*stheta\n",
    "c12 = -cphi*spsi\n",
    "c13 = cpsi*stheta + ctheta*spsi*sphi\n",
    "c21 = ctheta*spsi + cpsi*sphi*stheta\n",
    "c22 = cphi*cpsi\n",
    "c23 = spsi*stheta - cpsi*ctheta*sphi\n",
    "c31 = -cphi*stheta\n",
    "c32 = sphi\n",
    "c33 = cphi*ctheta\n",
    "\n",
    "BrfToNrf = Matrix([[c11, c12, c13],\n",
    "                   [c21, c22, c23],\n",
    "                   [c31, c32, c33]])\n",
    "\n",
    "# Euler Kinematical Equations matrix\n",
    "inertial2bodyrates = Matrix([[ctheta, 0, -cphi*stheta],\n",
    "                             [0,      1,  sphi],\n",
    "                             [stheta, 0,  cphi*ctheta]])\n",
    "\n",
    "# Body frame is attached to CoM of drone\n",
    "# b1 coincides with forward direction\n",
    "# b3 is perpendicular ot plane of rotors pointing vertically up during hover\n",
    "# body frame is parallel to principal axes\n",
    "Brf = Nrf.orientnew('Brf', 'DCM', BrfToNrf)\n",
    "\n",
    "# Set angular velocity of these frames\n",
    "# Set angular velocity of Brf wrt to Nrf, express the angular velocity in the body frame i.e b_w_b/n\n",
    "Brf.set_ang_vel(Nrf, w1*Brf.x + w2*Brf.y + w3*Brf.z)\n",
    "\n",
    "# Define Locations\n",
    "O = Point('O') # Inertial origin\n",
    "O.set_vel(Nrf, 0)\n",
    "\n",
    "# CoM of SC\n",
    "d_CG = Point('d_CG')\n",
    "# Set the CG position and velocity\n",
    "# Express Position and Velocity in inertial frame\n",
    "d_CG.set_pos(O, x*Nrf.x + y*Nrf.y + z*Nrf.z)\n",
    "# Define using generalized speeds\n",
    "d_CG.set_vel(Nrf, u1*Nrf.x + u2*Nrf.y + u3*Nrf.z)\n",
    "\n",
    "# Gather everything into lists\n",
    "# X Y Z translation\n",
    "coordinates = [x, y, z, phi, theta, psi]\n",
    "speeds = [u1, u2, u3, w1, w2, w3]\n",
    "\n",
    "# Kinematic Differential Equations\n",
    "\n",
    "# Kinematic relationship between inertial rates and body rates\n",
    "# u4, u5, u6 are p, q r in the body frame\n",
    "# The coordinates are in the inertial frame, so we need to convert the derivatives of the coordinates (theta, psi, phi) to the body frame\n",
    "pqr_vec = inertial2bodyrates * Matrix([phidot, thetadot, psidot])\n",
    "\n",
    "kde = [u1 - xd, u2 - yd, u3 - zd, w1 - pqr_vec[0], w2 - pqr_vec[1], w3 - pqr_vec[2]]\n",
    "\n",
    "\n",
    "# initial kane's object\n",
    "kane = KanesMethod(Nrf, q_ind=coordinates, u_ind=speeds, kd_eqs =kde)\n",
    "\n",
    "# inertia dynamics\n",
    "# inertia(N, 1, 2, 3, 4, 5, 6).to_matrix(N)\n",
    "# Matrix([\n",
    "#[1, 4, 6],\n",
    "#[4, 2, 5],\n",
    "#[6, 5, 3]])\n",
    "I_x, I_y, I_z, I_xy, I_yz, I_zx, m_sc = symbols('I_X I_Y I_Z I_XY I_YZ I_ZX m_sc') # Inertia of drone and mass \n",
    "#itd = inertia(Brf, 1.43e-5, 1.43e-5, 2.89e-5, 0, 0, 0)\n",
    "itd = inertia(Brf, I_x, I_y, I_z, I_xy, I_yz, I_zx)\n",
    "#itd = inertia(Brf, I_x, I_y, I_z)\n",
    "\n",
    "i1 = (itd, d_CG)\n",
    "# Define rigid body objects\n",
    "sc_body = RigidBody('sc_body', d_CG, Brf, m_sc, i1)\n",
    "\n",
    "# Define forces and point of application\n",
    "# Thrust and Torque from each motor \n",
    "M1, M2, M3 = dynamicsymbols('M1 M2 M3') # Make these dynamic as they can be time varying inputs\n",
    "\n",
    "\n",
    "t_M1 = (Brf, M1*Brf.x)\n",
    "t_M2 = (Brf, M2*Brf.y)\n",
    "t_M3 = (Brf, M3*Brf.z)\n",
    "\n",
    "loads = [t_M1, t_M2, t_M3]\n",
    "bodies = [sc_body]"
   ]
  },
  {
   "cell_type": "code",
   "execution_count": 286,
   "metadata": {},
   "outputs": [
    {
     "data": {
      "text/latex": [
       "$\\displaystyle \\left[\\begin{matrix}- m_{sc} \\frac{d}{d t} u_{1}{\\left(t \\right)}\\\\- m_{sc} \\frac{d}{d t} u_{2}{\\left(t \\right)}\\\\- m_{sc} \\frac{d}{d t} u_{3}{\\left(t \\right)}\\\\- I_{X} \\frac{d}{d t} w_{1}{\\left(t \\right)} + I_{Y} w_{2}{\\left(t \\right)} w_{3}{\\left(t \\right)} - I_{Z} w_{2}{\\left(t \\right)} w_{3}{\\left(t \\right)} + M_{1}{\\left(t \\right)}\\\\- I_{X} w_{1}{\\left(t \\right)} w_{3}{\\left(t \\right)} - I_{Y} \\frac{d}{d t} w_{2}{\\left(t \\right)} + I_{Z} w_{1}{\\left(t \\right)} w_{3}{\\left(t \\right)} + M_{2}{\\left(t \\right)}\\\\I_{X} w_{1}{\\left(t \\right)} w_{2}{\\left(t \\right)} - I_{Y} w_{1}{\\left(t \\right)} w_{2}{\\left(t \\right)} - I_{Z} \\frac{d}{d t} w_{3}{\\left(t \\right)} + M_{3}{\\left(t \\right)}\\end{matrix}\\right]$"
      ],
      "text/plain": [
       "Matrix([\n",
       "[                                           -m_sc*Derivative(u1(t), t)],\n",
       "[                                           -m_sc*Derivative(u2(t), t)],\n",
       "[                                           -m_sc*Derivative(u3(t), t)],\n",
       "[-I_X*Derivative(w1(t), t) + I_Y*w2(t)*w3(t) - I_Z*w2(t)*w3(t) + M1(t)],\n",
       "[-I_X*w1(t)*w3(t) - I_Y*Derivative(w2(t), t) + I_Z*w1(t)*w3(t) + M2(t)],\n",
       "[ I_X*w1(t)*w2(t) - I_Y*w1(t)*w2(t) - I_Z*Derivative(w3(t), t) + M3(t)]])"
      ]
     },
     "execution_count": 286,
     "metadata": {},
     "output_type": "execute_result"
    }
   ],
   "source": [
    "fr, frstar = kane.kanes_equations(bodies, loads)\n",
    "eoms = fr + frstar\n",
    "trigsimp(fr + frstar)\n"
   ]
  },
  {
   "cell_type": "code",
   "execution_count": 287,
   "metadata": {},
   "outputs": [
    {
     "data": {
      "text/latex": [
       "$\\displaystyle \\frac{I_{Y} w_{2}{\\left(t \\right)} w_{3}{\\left(t \\right)} - I_{Z} w_{2}{\\left(t \\right)} w_{3}{\\left(t \\right)} + M_{1}{\\left(t \\right)}}{I_{X}}$"
      ],
      "text/plain": [
       "(I_Y*w2(t)*w3(t) - I_Z*w2(t)*w3(t) + M1(t))/I_X"
      ]
     },
     "execution_count": 287,
     "metadata": {},
     "output_type": "execute_result"
    }
   ],
   "source": [
    "accel = solve(eoms, [u1d, u2d, u3d, w1dot, w2dot, w3dot])\n",
    "simplify(accel[w1dot])\n"
   ]
  },
  {
   "cell_type": "code",
   "execution_count": 288,
   "metadata": {},
   "outputs": [
    {
     "data": {
      "text/latex": [
       "$\\displaystyle \\frac{I_{Y} w_{2}{\\left(t \\right)} w_{3}{\\left(t \\right)} - I_{Z} w_{2}{\\left(t \\right)} w_{3}{\\left(t \\right)} + M_{1}{\\left(t \\right)}}{I_{X}}$"
      ],
      "text/plain": [
       "(I_Y*w2(t)*w3(t) - I_Z*w2(t)*w3(t) + M1(t))/I_X"
      ]
     },
     "execution_count": 288,
     "metadata": {},
     "output_type": "execute_result"
    }
   ],
   "source": [
    "# Rigid Body Equations of Motion \n",
    "w = Matrix([w1, w2, w3])\n",
    "T = Matrix([M1, M2, M3])\n",
    "Iw = itd.to_matrix(Brf) * w\n",
    "w_dot_truth =  itd.to_matrix(Brf).inv()*(T - w.cross(Iw))\n",
    "simplify(w_dot_truth[0])\n",
    "\n"
   ]
  },
  {
   "cell_type": "code",
   "execution_count": 69,
   "metadata": {},
   "outputs": [],
   "source": [
    "# linearize(op_point=None, A_and_B=False, simplify=False)\n",
    "x0, y0, z0, psi0, phis = symbols('x0 y0 z0 psi0 phis')\n",
    "op_point = {\n",
    "    x: x0,\n",
    "    y: y0,\n",
    "    z: z0,\n",
    "    phidot: phis,\n",
    "    thetadot: 0,\n",
    "    psidot: 0,\n",
    "    u4: 0,\n",
    "    u5: 0,\n",
    "    u6: 0,\n",
    "    theta: 0,\n",
    "    phi: 0,\n",
    "    psi: psi0,\n",
    "    u1: 0,\n",
    "    u2: 0,\n",
    "    u3: 0,\n",
    "}\n",
    "# oordinates = [x, y, z, phi, theta, psi]\n",
    "# speeds = [u1, u2, u3, u4, u5, u6]\n",
    "linearizer  = kane.to_linearizer()\n",
    "\n",
    "linearizer.r = Matrix([M1, M2, M3]) # can use to reorganize inputs\n",
    "A, B = linearizer.linearize(A_and_B=True, op_point=[op_point], simplify = True)\n",
    "\n",
    "trigsimp(A*Matrix([linearizer.q, linearizer.u]))\n",
    "\n",
    "trigsimp(B*linearizer.r)\n",
    "\n",
    "eoms = trigsimp(A*Matrix([linearizer.q, linearizer.u]) + B*linearizer.r)\n",
    "eoms\n",
    "\n",
    "A*Matrix([linearizer.q, linearizer.u]) + B*linearizer.r\n",
    "\n"
   ]
  }
 ],
 "metadata": {
  "kernelspec": {
   "display_name": "Python 3",
   "language": "python",
   "name": "python3"
  },
  "language_info": {
   "codemirror_mode": {
    "name": "ipython",
    "version": 3
   },
   "file_extension": ".py",
   "mimetype": "text/x-python",
   "name": "python",
   "nbconvert_exporter": "python",
   "pygments_lexer": "ipython3",
   "version": "3.13.2"
  }
 },
 "nbformat": 4,
 "nbformat_minor": 2
}
