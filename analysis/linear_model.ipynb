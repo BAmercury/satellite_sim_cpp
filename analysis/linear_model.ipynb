{
 "cells": [
  {
   "cell_type": "code",
   "execution_count": 69,
   "metadata": {},
   "outputs": [],
   "source": [
    "from sympy.physics.mechanics import *\n",
    "from sympy import symbols, trigsimp\n",
    "from numpy import deg2rad, rad2deg, array, zeros, linspace, pi\n",
    "from scipy.integrate import odeint\n",
    "from sympy.functions.elementary.trigonometric import sin, cos\n",
    "from sympy import Matrix\n",
    "from sympy import ones\n",
    "from sympy.vector import CoordSys3D, matrix_to_vector\n",
    "from sympy import simplify\n",
    "from sympy import expand\n",
    "from sympy import symbols, solve\n",
    "from sympy import ratsimp\n",
    "from sympy import eye\n",
    "import control\n",
    "import numpy as np\n",
    "from sympy.physics.vector import init_vprinting\n",
    "import matplotlib.pyplot as plt"
   ]
  },
  {
   "cell_type": "code",
   "execution_count": 70,
   "metadata": {},
   "outputs": [],
   "source": [
    "# Define state vector\n",
    "\n",
    "# ZXY Euler angles: Roll Pitch Yaw Euler angles in inertial frame\n",
    "theta, phi, psi = dynamicsymbols('theta phi psi') # drone orientation expressed in inertial frame\n",
    "thetadot, phidot, psidot = dynamicsymbols('theta phi psi', 1) # drone angular velocity expressed in inertial frame\n",
    "\n",
    "\n",
    "\n",
    "# X Y Z translation in inertial frame\n",
    "x, y, z = dynamicsymbols('x y z')\n",
    "xd, yd, zd = dynamicsymbols('x y z', 1)\n",
    "# Generalized speeds (Body rates)\n",
    "# Define the translation speeds in the inertial frame\n",
    "# Define the rotational speeds in the body frame to simplify the process, otherwise the equations come out pretty ugly\n",
    "# u1 = xd\n",
    "# u2 = yd\n",
    "# u3 = zd\n",
    "u1, u2, u3, w1, w2, w3 = dynamicsymbols('u1 u2 u3 w1 w2 w3') # body rates\n",
    "u1d, u2d, u3d, w1dot, w2dot, w3dot = dynamicsymbols('u1 u2 u3 w1 w2 w3', 1) # body ang accel\n",
    "\n",
    "\n",
    "# Define Reference Frames\n",
    "Nrf = ReferenceFrame('Nrf') # Inertial Reference Frame\n",
    "# Body Fixed Reference Frame\n",
    "# Z-X-Y Euler rotation, will write the DCM directly for sympy\n",
    "cpsi = cos(psi)\n",
    "spsi = sin(psi)\n",
    "ctheta = cos(theta)\n",
    "stheta = sin(theta)\n",
    "cphi = cos(phi)\n",
    "sphi = sin(phi)\n",
    "\n",
    "c11 = cpsi*ctheta - sphi*spsi*stheta\n",
    "c12 = -cphi*spsi\n",
    "c13 = cpsi*stheta + ctheta*spsi*sphi\n",
    "c21 = ctheta*spsi + cpsi*sphi*stheta\n",
    "c22 = cphi*cpsi\n",
    "c23 = spsi*stheta - cpsi*ctheta*sphi\n",
    "c31 = -cphi*stheta\n",
    "c32 = sphi\n",
    "c33 = cphi*ctheta\n",
    "\n",
    "BrfToNrf = Matrix([[c11, c12, c13],\n",
    "                   [c21, c22, c23],\n",
    "                   [c31, c32, c33]])\n",
    "\n",
    "# Euler Kinematical Equations matrix\n",
    "inertial2bodyrates = Matrix([[ctheta, 0, -cphi*stheta],\n",
    "                             [0,      1,  sphi],\n",
    "                             [stheta, 0,  cphi*ctheta]])\n",
    "\n",
    "# Body frame is attached to CoM of drone\n",
    "# b1 coincides with forward direction\n",
    "# b3 is perpendicular ot plane of rotors pointing vertically up during hover\n",
    "# body frame is parallel to principal axes\n",
    "Brf = Nrf.orientnew('Brf', 'DCM', BrfToNrf)\n",
    "\n",
    "# Set angular velocity of these frames\n",
    "# Set angular velocity of Brf wrt to Nrf, express the angular velocity in the body frame i.e b_w_b/n\n",
    "Brf.set_ang_vel(Nrf, w1*Brf.x + w2*Brf.y + w3*Brf.z)\n",
    "\n",
    "# Define Locations\n",
    "O = Point('O') # Inertial origin\n",
    "O.set_vel(Nrf, 0)\n",
    "\n",
    "# CoM of SC\n",
    "d_CG = Point('d_CG')\n",
    "# Set the CG position and velocity\n",
    "# Express Position and Velocity in inertial frame\n",
    "d_CG.set_pos(O, x*Nrf.x + y*Nrf.y + z*Nrf.z)\n",
    "# Define using generalized speeds\n",
    "d_CG.set_vel(Nrf, u1*Nrf.x + u2*Nrf.y + u3*Nrf.z)\n",
    "\n",
    "# Gather everything into lists\n",
    "# X Y Z translation\n",
    "coordinates = [x, y, z, phi, theta, psi]\n",
    "speeds = [u1, u2, u3, w1, w2, w3]\n",
    "\n",
    "# Kinematic Differential Equations\n",
    "\n",
    "# Kinematic relationship between inertial rates and body rates\n",
    "# u4, u5, u6 are p, q r in the body frame\n",
    "# The coordinates are in the inertial frame, so we need to convert the derivatives of the coordinates (theta, psi, phi) to the body frame\n",
    "pqr_vec = inertial2bodyrates * Matrix([phidot, thetadot, psidot])\n",
    "\n",
    "kde = [u1 - xd, u2 - yd, u3 - zd, w1 - pqr_vec[0], w2 - pqr_vec[1], w3 - pqr_vec[2]]\n",
    "\n",
    "\n",
    "# initial kane's object\n",
    "kane = KanesMethod(Nrf, q_ind=coordinates, u_ind=speeds, kd_eqs =kde)\n",
    "\n",
    "# inertia dynamics\n",
    "# inertia(N, 1, 2, 3, 4, 5, 6).to_matrix(N)\n",
    "# Matrix([\n",
    "#[1, 4, 6],\n",
    "#[4, 2, 5],\n",
    "#[6, 5, 3]])\n",
    "I_x, I_y, I_z, I_xy, I_yz, I_zx, m_sc = symbols('I_X I_Y I_Z I_XY I_YZ I_ZX m_sc') # Inertia of drone and mass \n",
    "#itd = inertia(Brf, 1.43e-5, 1.43e-5, 2.89e-5, 0, 0, 0)\n",
    "itd = inertia(Brf, I_x, I_y, I_z, I_xy, I_yz, I_zx)\n",
    "#itd = inertia(Brf, I_x, I_y, I_z)\n",
    "\n",
    "i1 = (itd, d_CG)\n",
    "# Define rigid body objects\n",
    "sc_body = RigidBody('sc_body', d_CG, Brf, m_sc, i1)\n",
    "\n",
    "# Define forces and point of application\n",
    "# Thrust and Torque from each motor \n",
    "M1, M2, M3 = dynamicsymbols('M1 M2 M3') # Make these dynamic as they can be time varying inputs\n",
    "\n",
    "\n",
    "t_M1 = (Brf, M1*Brf.x)\n",
    "t_M2 = (Brf, M2*Brf.y)\n",
    "t_M3 = (Brf, M3*Brf.z)\n",
    "\n",
    "loads = [t_M1, t_M2, t_M3]\n",
    "bodies = [sc_body]"
   ]
  },
  {
   "cell_type": "code",
   "execution_count": 71,
   "metadata": {},
   "outputs": [
    {
     "data": {
      "text/latex": [
       "$\\displaystyle \\left[\\begin{matrix}- m_{sc} \\frac{d}{d t} u_{1}{\\left(t \\right)}\\\\- m_{sc} \\frac{d}{d t} u_{2}{\\left(t \\right)}\\\\- m_{sc} \\frac{d}{d t} u_{3}{\\left(t \\right)}\\\\- I_{X} \\frac{d}{d t} w_{1}{\\left(t \\right)} - I_{XY} \\frac{d}{d t} w_{2}{\\left(t \\right)} - I_{ZX} \\frac{d}{d t} w_{3}{\\left(t \\right)} + \\left(I_{XY} w_{1}{\\left(t \\right)} + I_{Y} w_{2}{\\left(t \\right)} + I_{YZ} w_{3}{\\left(t \\right)}\\right) w_{3}{\\left(t \\right)} - \\left(I_{YZ} w_{2}{\\left(t \\right)} + I_{Z} w_{3}{\\left(t \\right)} + I_{ZX} w_{1}{\\left(t \\right)}\\right) w_{2}{\\left(t \\right)} + M_{1}{\\left(t \\right)}\\\\- I_{XY} \\frac{d}{d t} w_{1}{\\left(t \\right)} - I_{Y} \\frac{d}{d t} w_{2}{\\left(t \\right)} - I_{YZ} \\frac{d}{d t} w_{3}{\\left(t \\right)} - \\left(I_{X} w_{1}{\\left(t \\right)} + I_{XY} w_{2}{\\left(t \\right)} + I_{ZX} w_{3}{\\left(t \\right)}\\right) w_{3}{\\left(t \\right)} + \\left(I_{YZ} w_{2}{\\left(t \\right)} + I_{Z} w_{3}{\\left(t \\right)} + I_{ZX} w_{1}{\\left(t \\right)}\\right) w_{1}{\\left(t \\right)} + M_{2}{\\left(t \\right)}\\\\- I_{YZ} \\frac{d}{d t} w_{2}{\\left(t \\right)} - I_{Z} \\frac{d}{d t} w_{3}{\\left(t \\right)} - I_{ZX} \\frac{d}{d t} w_{1}{\\left(t \\right)} + \\left(I_{X} w_{1}{\\left(t \\right)} + I_{XY} w_{2}{\\left(t \\right)} + I_{ZX} w_{3}{\\left(t \\right)}\\right) w_{2}{\\left(t \\right)} - \\left(I_{XY} w_{1}{\\left(t \\right)} + I_{Y} w_{2}{\\left(t \\right)} + I_{YZ} w_{3}{\\left(t \\right)}\\right) w_{1}{\\left(t \\right)} + M_{3}{\\left(t \\right)}\\end{matrix}\\right]$"
      ],
      "text/plain": [
       "Matrix([\n",
       "[                                                                                                                                                           -m_sc*Derivative(u1(t), t)],\n",
       "[                                                                                                                                                           -m_sc*Derivative(u2(t), t)],\n",
       "[                                                                                                                                                           -m_sc*Derivative(u3(t), t)],\n",
       "[-I_X*Derivative(w1(t), t) - I_XY*Derivative(w2(t), t) - I_ZX*Derivative(w3(t), t) + (I_XY*w1(t) + I_Y*w2(t) + I_YZ*w3(t))*w3(t) - (I_YZ*w2(t) + I_Z*w3(t) + I_ZX*w1(t))*w2(t) + M1(t)],\n",
       "[-I_XY*Derivative(w1(t), t) - I_Y*Derivative(w2(t), t) - I_YZ*Derivative(w3(t), t) - (I_X*w1(t) + I_XY*w2(t) + I_ZX*w3(t))*w3(t) + (I_YZ*w2(t) + I_Z*w3(t) + I_ZX*w1(t))*w1(t) + M2(t)],\n",
       "[-I_YZ*Derivative(w2(t), t) - I_Z*Derivative(w3(t), t) - I_ZX*Derivative(w1(t), t) + (I_X*w1(t) + I_XY*w2(t) + I_ZX*w3(t))*w2(t) - (I_XY*w1(t) + I_Y*w2(t) + I_YZ*w3(t))*w1(t) + M3(t)]])"
      ]
     },
     "execution_count": 71,
     "metadata": {},
     "output_type": "execute_result"
    }
   ],
   "source": [
    "fr, frstar = kane.kanes_equations(bodies, loads)\n",
    "eoms = fr + frstar\n",
    "trigsimp(fr + frstar)\n"
   ]
  },
  {
   "cell_type": "code",
   "execution_count": 72,
   "metadata": {},
   "outputs": [
    {
     "data": {
      "text/latex": [
       "$\\displaystyle \\frac{- I_{X} I_{XY} I_{YZ} w_{1}{\\left(t \\right)} w_{2}{\\left(t \\right)} - I_{X} I_{XY} I_{Z} w_{1}{\\left(t \\right)} w_{3}{\\left(t \\right)} + I_{X} I_{Y} I_{ZX} w_{1}{\\left(t \\right)} w_{2}{\\left(t \\right)} + I_{X} I_{YZ} I_{ZX} w_{1}{\\left(t \\right)} w_{3}{\\left(t \\right)} + I_{XY}^{2} I_{YZ} w_{1}^{2}{\\left(t \\right)} - I_{XY}^{2} I_{YZ} w_{2}^{2}{\\left(t \\right)} - I_{XY}^{2} I_{Z} w_{2}{\\left(t \\right)} w_{3}{\\left(t \\right)} + I_{XY} I_{Y} I_{YZ} w_{1}{\\left(t \\right)} w_{2}{\\left(t \\right)} - I_{XY} I_{Y} I_{Z} w_{1}{\\left(t \\right)} w_{3}{\\left(t \\right)} - I_{XY} I_{Y} I_{ZX} w_{1}^{2}{\\left(t \\right)} + I_{XY} I_{Y} I_{ZX} w_{2}^{2}{\\left(t \\right)} + 2 I_{XY} I_{YZ}^{2} w_{1}{\\left(t \\right)} w_{3}{\\left(t \\right)} + I_{XY} I_{YZ} I_{Z} w_{1}{\\left(t \\right)} w_{2}{\\left(t \\right)} - I_{XY} I_{YZ} M_{3}{\\left(t \\right)} + I_{XY} I_{Z}^{2} w_{1}{\\left(t \\right)} w_{3}{\\left(t \\right)} + I_{XY} I_{Z} I_{ZX} w_{1}^{2}{\\left(t \\right)} - I_{XY} I_{Z} I_{ZX} w_{3}^{2}{\\left(t \\right)} + I_{XY} I_{Z} M_{2}{\\left(t \\right)} - I_{Y}^{2} I_{Z} w_{2}{\\left(t \\right)} w_{3}{\\left(t \\right)} - I_{Y}^{2} I_{ZX} w_{1}{\\left(t \\right)} w_{2}{\\left(t \\right)} + I_{Y} I_{YZ}^{2} w_{2}{\\left(t \\right)} w_{3}{\\left(t \\right)} + I_{Y} I_{YZ} I_{Z} w_{2}^{2}{\\left(t \\right)} - I_{Y} I_{YZ} I_{Z} w_{3}^{2}{\\left(t \\right)} - I_{Y} I_{YZ} I_{ZX} w_{1}{\\left(t \\right)} w_{3}{\\left(t \\right)} + I_{Y} I_{Z}^{2} w_{2}{\\left(t \\right)} w_{3}{\\left(t \\right)} + I_{Y} I_{Z} I_{ZX} w_{1}{\\left(t \\right)} w_{2}{\\left(t \\right)} - I_{Y} I_{Z} M_{1}{\\left(t \\right)} + I_{Y} I_{ZX}^{2} w_{2}{\\left(t \\right)} w_{3}{\\left(t \\right)} + I_{Y} I_{ZX} M_{3}{\\left(t \\right)} - I_{YZ}^{3} w_{2}^{2}{\\left(t \\right)} + I_{YZ}^{3} w_{3}^{2}{\\left(t \\right)} - I_{YZ}^{2} I_{Z} w_{2}{\\left(t \\right)} w_{3}{\\left(t \\right)} - 2 I_{YZ}^{2} I_{ZX} w_{1}{\\left(t \\right)} w_{2}{\\left(t \\right)} + I_{YZ}^{2} M_{1}{\\left(t \\right)} - I_{YZ} I_{Z} I_{ZX} w_{1}{\\left(t \\right)} w_{3}{\\left(t \\right)} - I_{YZ} I_{ZX}^{2} w_{1}^{2}{\\left(t \\right)} + I_{YZ} I_{ZX}^{2} w_{3}^{2}{\\left(t \\right)} - I_{YZ} I_{ZX} M_{2}{\\left(t \\right)}}{- I_{X} I_{Y} I_{Z} + I_{X} I_{YZ}^{2} + I_{XY}^{2} I_{Z} - 2 I_{XY} I_{YZ} I_{ZX} + I_{Y} I_{ZX}^{2}}$"
      ],
      "text/plain": [
       "(-I_X*I_XY*I_YZ*w1(t)*w2(t) - I_X*I_XY*I_Z*w1(t)*w3(t) + I_X*I_Y*I_ZX*w1(t)*w2(t) + I_X*I_YZ*I_ZX*w1(t)*w3(t) + I_XY**2*I_YZ*w1(t)**2 - I_XY**2*I_YZ*w2(t)**2 - I_XY**2*I_Z*w2(t)*w3(t) + I_XY*I_Y*I_YZ*w1(t)*w2(t) - I_XY*I_Y*I_Z*w1(t)*w3(t) - I_XY*I_Y*I_ZX*w1(t)**2 + I_XY*I_Y*I_ZX*w2(t)**2 + 2*I_XY*I_YZ**2*w1(t)*w3(t) + I_XY*I_YZ*I_Z*w1(t)*w2(t) - I_XY*I_YZ*M3(t) + I_XY*I_Z**2*w1(t)*w3(t) + I_XY*I_Z*I_ZX*w1(t)**2 - I_XY*I_Z*I_ZX*w3(t)**2 + I_XY*I_Z*M2(t) - I_Y**2*I_Z*w2(t)*w3(t) - I_Y**2*I_ZX*w1(t)*w2(t) + I_Y*I_YZ**2*w2(t)*w3(t) + I_Y*I_YZ*I_Z*w2(t)**2 - I_Y*I_YZ*I_Z*w3(t)**2 - I_Y*I_YZ*I_ZX*w1(t)*w3(t) + I_Y*I_Z**2*w2(t)*w3(t) + I_Y*I_Z*I_ZX*w1(t)*w2(t) - I_Y*I_Z*M1(t) + I_Y*I_ZX**2*w2(t)*w3(t) + I_Y*I_ZX*M3(t) - I_YZ**3*w2(t)**2 + I_YZ**3*w3(t)**2 - I_YZ**2*I_Z*w2(t)*w3(t) - 2*I_YZ**2*I_ZX*w1(t)*w2(t) + I_YZ**2*M1(t) - I_YZ*I_Z*I_ZX*w1(t)*w3(t) - I_YZ*I_ZX**2*w1(t)**2 + I_YZ*I_ZX**2*w3(t)**2 - I_YZ*I_ZX*M2(t))/(-I_X*I_Y*I_Z + I_X*I_YZ**2 + I_XY**2*I_Z - 2*I_XY*I_YZ*I_ZX + I_Y*I_ZX**2)"
      ]
     },
     "execution_count": 72,
     "metadata": {},
     "output_type": "execute_result"
    }
   ],
   "source": [
    "accel = solve(eoms, [u1d, u2d, u3d, w1dot, w2dot, w3dot])\n",
    "simplify(accel[w1dot])\n"
   ]
  },
  {
   "cell_type": "code",
   "execution_count": 73,
   "metadata": {},
   "outputs": [
    {
     "data": {
      "text/latex": [
       "$\\displaystyle \\frac{- \\left(I_{XY} I_{YZ} - I_{Y} I_{ZX}\\right) \\left(\\left(I_{X} w_{1}{\\left(t \\right)} + I_{XY} w_{2}{\\left(t \\right)} + I_{ZX} w_{3}{\\left(t \\right)}\\right) w_{2}{\\left(t \\right)} - \\left(I_{XY} w_{1}{\\left(t \\right)} + I_{Y} w_{2}{\\left(t \\right)} + I_{YZ} w_{3}{\\left(t \\right)}\\right) w_{1}{\\left(t \\right)} + M_{3}{\\left(t \\right)}\\right) + \\left(I_{XY} I_{Z} - I_{YZ} I_{ZX}\\right) \\left(- \\left(I_{X} w_{1}{\\left(t \\right)} + I_{XY} w_{2}{\\left(t \\right)} + I_{ZX} w_{3}{\\left(t \\right)}\\right) w_{3}{\\left(t \\right)} + \\left(I_{YZ} w_{2}{\\left(t \\right)} + I_{Z} w_{3}{\\left(t \\right)} + I_{ZX} w_{1}{\\left(t \\right)}\\right) w_{1}{\\left(t \\right)} + M_{2}{\\left(t \\right)}\\right) - \\left(I_{Y} I_{Z} - I_{YZ}^{2}\\right) \\left(\\left(I_{XY} w_{1}{\\left(t \\right)} + I_{Y} w_{2}{\\left(t \\right)} + I_{YZ} w_{3}{\\left(t \\right)}\\right) w_{3}{\\left(t \\right)} - \\left(I_{YZ} w_{2}{\\left(t \\right)} + I_{Z} w_{3}{\\left(t \\right)} + I_{ZX} w_{1}{\\left(t \\right)}\\right) w_{2}{\\left(t \\right)} + M_{1}{\\left(t \\right)}\\right)}{- I_{X} I_{Y} I_{Z} + I_{X} I_{YZ}^{2} + I_{XY}^{2} I_{Z} - 2 I_{XY} I_{YZ} I_{ZX} + I_{Y} I_{ZX}^{2}}$"
      ],
      "text/plain": [
       "(-(I_XY*I_YZ - I_Y*I_ZX)*((I_X*w1(t) + I_XY*w2(t) + I_ZX*w3(t))*w2(t) - (I_XY*w1(t) + I_Y*w2(t) + I_YZ*w3(t))*w1(t) + M3(t)) + (I_XY*I_Z - I_YZ*I_ZX)*(-(I_X*w1(t) + I_XY*w2(t) + I_ZX*w3(t))*w3(t) + (I_YZ*w2(t) + I_Z*w3(t) + I_ZX*w1(t))*w1(t) + M2(t)) - (I_Y*I_Z - I_YZ**2)*((I_XY*w1(t) + I_Y*w2(t) + I_YZ*w3(t))*w3(t) - (I_YZ*w2(t) + I_Z*w3(t) + I_ZX*w1(t))*w2(t) + M1(t)))/(-I_X*I_Y*I_Z + I_X*I_YZ**2 + I_XY**2*I_Z - 2*I_XY*I_YZ*I_ZX + I_Y*I_ZX**2)"
      ]
     },
     "execution_count": 73,
     "metadata": {},
     "output_type": "execute_result"
    }
   ],
   "source": [
    "# Rigid Body Equations of Motion \n",
    "w = Matrix([w1, w2, w3])\n",
    "T = Matrix([M1, M2, M3])\n",
    "Iw = itd.to_matrix(Brf) * w\n",
    "w_dot_truth =  itd.to_matrix(Brf).inv()*(T - w.cross(Iw))\n",
    "simplify(w_dot_truth[0])\n",
    "\n"
   ]
  },
  {
   "cell_type": "code",
   "execution_count": 74,
   "metadata": {},
   "outputs": [
    {
     "name": "stdout",
     "output_type": "stream",
     "text": [
      "-I_X*I_XY*I_YZ*w1(t)*w2(t)/(-I_X*I_Y*I_Z + I_X*I_YZ**2 + I_XY**2*I_Z - 2*I_XY*I_YZ*I_ZX + I_Y*I_ZX**2) - I_X*I_XY*I_Z*w1(t)*w3(t)/(-I_X*I_Y*I_Z + I_X*I_YZ**2 + I_XY**2*I_Z - 2*I_XY*I_YZ*I_ZX + I_Y*I_ZX**2) + I_X*I_Y*I_ZX*w1(t)*w2(t)/(-I_X*I_Y*I_Z + I_X*I_YZ**2 + I_XY**2*I_Z - 2*I_XY*I_YZ*I_ZX + I_Y*I_ZX**2) + I_X*I_YZ*I_ZX*w1(t)*w3(t)/(-I_X*I_Y*I_Z + I_X*I_YZ**2 + I_XY**2*I_Z - 2*I_XY*I_YZ*I_ZX + I_Y*I_ZX**2) + I_XY**2*I_YZ*w1(t)**2/(-I_X*I_Y*I_Z + I_X*I_YZ**2 + I_XY**2*I_Z - 2*I_XY*I_YZ*I_ZX + I_Y*I_ZX**2) - I_XY**2*I_YZ*w2(t)**2/(-I_X*I_Y*I_Z + I_X*I_YZ**2 + I_XY**2*I_Z - 2*I_XY*I_YZ*I_ZX + I_Y*I_ZX**2) - I_XY**2*I_Z*w2(t)*w3(t)/(-I_X*I_Y*I_Z + I_X*I_YZ**2 + I_XY**2*I_Z - 2*I_XY*I_YZ*I_ZX + I_Y*I_ZX**2) + I_XY*I_Y*I_YZ*w1(t)*w2(t)/(-I_X*I_Y*I_Z + I_X*I_YZ**2 + I_XY**2*I_Z - 2*I_XY*I_YZ*I_ZX + I_Y*I_ZX**2) - I_XY*I_Y*I_Z*w1(t)*w3(t)/(-I_X*I_Y*I_Z + I_X*I_YZ**2 + I_XY**2*I_Z - 2*I_XY*I_YZ*I_ZX + I_Y*I_ZX**2) - I_XY*I_Y*I_ZX*w1(t)**2/(-I_X*I_Y*I_Z + I_X*I_YZ**2 + I_XY**2*I_Z - 2*I_XY*I_YZ*I_ZX + I_Y*I_ZX**2) + I_XY*I_Y*I_ZX*w2(t)**2/(-I_X*I_Y*I_Z + I_X*I_YZ**2 + I_XY**2*I_Z - 2*I_XY*I_YZ*I_ZX + I_Y*I_ZX**2) + 2*I_XY*I_YZ**2*w1(t)*w3(t)/(-I_X*I_Y*I_Z + I_X*I_YZ**2 + I_XY**2*I_Z - 2*I_XY*I_YZ*I_ZX + I_Y*I_ZX**2) + I_XY*I_YZ*I_Z*w1(t)*w2(t)/(-I_X*I_Y*I_Z + I_X*I_YZ**2 + I_XY**2*I_Z - 2*I_XY*I_YZ*I_ZX + I_Y*I_ZX**2) - I_XY*I_YZ*M3(t)/(-I_X*I_Y*I_Z + I_X*I_YZ**2 + I_XY**2*I_Z - 2*I_XY*I_YZ*I_ZX + I_Y*I_ZX**2) + I_XY*I_Z**2*w1(t)*w3(t)/(-I_X*I_Y*I_Z + I_X*I_YZ**2 + I_XY**2*I_Z - 2*I_XY*I_YZ*I_ZX + I_Y*I_ZX**2) + I_XY*I_Z*I_ZX*w1(t)**2/(-I_X*I_Y*I_Z + I_X*I_YZ**2 + I_XY**2*I_Z - 2*I_XY*I_YZ*I_ZX + I_Y*I_ZX**2) - I_XY*I_Z*I_ZX*w3(t)**2/(-I_X*I_Y*I_Z + I_X*I_YZ**2 + I_XY**2*I_Z - 2*I_XY*I_YZ*I_ZX + I_Y*I_ZX**2) + I_XY*I_Z*M2(t)/(-I_X*I_Y*I_Z + I_X*I_YZ**2 + I_XY**2*I_Z - 2*I_XY*I_YZ*I_ZX + I_Y*I_ZX**2) - I_Y**2*I_Z*w2(t)*w3(t)/(-I_X*I_Y*I_Z + I_X*I_YZ**2 + I_XY**2*I_Z - 2*I_XY*I_YZ*I_ZX + I_Y*I_ZX**2) - I_Y**2*I_ZX*w1(t)*w2(t)/(-I_X*I_Y*I_Z + I_X*I_YZ**2 + I_XY**2*I_Z - 2*I_XY*I_YZ*I_ZX + I_Y*I_ZX**2) + I_Y*I_YZ**2*w2(t)*w3(t)/(-I_X*I_Y*I_Z + I_X*I_YZ**2 + I_XY**2*I_Z - 2*I_XY*I_YZ*I_ZX + I_Y*I_ZX**2) + I_Y*I_YZ*I_Z*w2(t)**2/(-I_X*I_Y*I_Z + I_X*I_YZ**2 + I_XY**2*I_Z - 2*I_XY*I_YZ*I_ZX + I_Y*I_ZX**2) - I_Y*I_YZ*I_Z*w3(t)**2/(-I_X*I_Y*I_Z + I_X*I_YZ**2 + I_XY**2*I_Z - 2*I_XY*I_YZ*I_ZX + I_Y*I_ZX**2) - I_Y*I_YZ*I_ZX*w1(t)*w3(t)/(-I_X*I_Y*I_Z + I_X*I_YZ**2 + I_XY**2*I_Z - 2*I_XY*I_YZ*I_ZX + I_Y*I_ZX**2) + I_Y*I_Z**2*w2(t)*w3(t)/(-I_X*I_Y*I_Z + I_X*I_YZ**2 + I_XY**2*I_Z - 2*I_XY*I_YZ*I_ZX + I_Y*I_ZX**2) + I_Y*I_Z*I_ZX*w1(t)*w2(t)/(-I_X*I_Y*I_Z + I_X*I_YZ**2 + I_XY**2*I_Z - 2*I_XY*I_YZ*I_ZX + I_Y*I_ZX**2) - I_Y*I_Z*M1(t)/(-I_X*I_Y*I_Z + I_X*I_YZ**2 + I_XY**2*I_Z - 2*I_XY*I_YZ*I_ZX + I_Y*I_ZX**2) + I_Y*I_ZX**2*w2(t)*w3(t)/(-I_X*I_Y*I_Z + I_X*I_YZ**2 + I_XY**2*I_Z - 2*I_XY*I_YZ*I_ZX + I_Y*I_ZX**2) + I_Y*I_ZX*M3(t)/(-I_X*I_Y*I_Z + I_X*I_YZ**2 + I_XY**2*I_Z - 2*I_XY*I_YZ*I_ZX + I_Y*I_ZX**2) - I_YZ**3*w2(t)**2/(-I_X*I_Y*I_Z + I_X*I_YZ**2 + I_XY**2*I_Z - 2*I_XY*I_YZ*I_ZX + I_Y*I_ZX**2) + I_YZ**3*w3(t)**2/(-I_X*I_Y*I_Z + I_X*I_YZ**2 + I_XY**2*I_Z - 2*I_XY*I_YZ*I_ZX + I_Y*I_ZX**2) - I_YZ**2*I_Z*w2(t)*w3(t)/(-I_X*I_Y*I_Z + I_X*I_YZ**2 + I_XY**2*I_Z - 2*I_XY*I_YZ*I_ZX + I_Y*I_ZX**2) - 2*I_YZ**2*I_ZX*w1(t)*w2(t)/(-I_X*I_Y*I_Z + I_X*I_YZ**2 + I_XY**2*I_Z - 2*I_XY*I_YZ*I_ZX + I_Y*I_ZX**2) + I_YZ**2*M1(t)/(-I_X*I_Y*I_Z + I_X*I_YZ**2 + I_XY**2*I_Z - 2*I_XY*I_YZ*I_ZX + I_Y*I_ZX**2) - I_YZ*I_Z*I_ZX*w1(t)*w3(t)/(-I_X*I_Y*I_Z + I_X*I_YZ**2 + I_XY**2*I_Z - 2*I_XY*I_YZ*I_ZX + I_Y*I_ZX**2) - I_YZ*I_ZX**2*w1(t)**2/(-I_X*I_Y*I_Z + I_X*I_YZ**2 + I_XY**2*I_Z - 2*I_XY*I_YZ*I_ZX + I_Y*I_ZX**2) + I_YZ*I_ZX**2*w3(t)**2/(-I_X*I_Y*I_Z + I_X*I_YZ**2 + I_XY**2*I_Z - 2*I_XY*I_YZ*I_ZX + I_Y*I_ZX**2) - I_YZ*I_ZX*M2(t)/(-I_X*I_Y*I_Z + I_X*I_YZ**2 + I_XY**2*I_Z - 2*I_XY*I_YZ*I_ZX + I_Y*I_ZX**2)\n",
      "-I_X*I_XY*I_YZ*w1(t)*w2(t)/(-I_X*I_Y*I_Z + I_X*I_YZ**2 + I_XY**2*I_Z - 2*I_XY*I_YZ*I_ZX + I_Y*I_ZX**2) - I_X*I_XY*I_Z*w1(t)*w3(t)/(-I_X*I_Y*I_Z + I_X*I_YZ**2 + I_XY**2*I_Z - 2*I_XY*I_YZ*I_ZX + I_Y*I_ZX**2) + I_X*I_Y*I_ZX*w1(t)*w2(t)/(-I_X*I_Y*I_Z + I_X*I_YZ**2 + I_XY**2*I_Z - 2*I_XY*I_YZ*I_ZX + I_Y*I_ZX**2) + I_X*I_YZ*I_ZX*w1(t)*w3(t)/(-I_X*I_Y*I_Z + I_X*I_YZ**2 + I_XY**2*I_Z - 2*I_XY*I_YZ*I_ZX + I_Y*I_ZX**2) + I_XY**2*I_YZ*w1(t)**2/(-I_X*I_Y*I_Z + I_X*I_YZ**2 + I_XY**2*I_Z - 2*I_XY*I_YZ*I_ZX + I_Y*I_ZX**2) - I_XY**2*I_YZ*w2(t)**2/(-I_X*I_Y*I_Z + I_X*I_YZ**2 + I_XY**2*I_Z - 2*I_XY*I_YZ*I_ZX + I_Y*I_ZX**2) - I_XY**2*I_Z*w2(t)*w3(t)/(-I_X*I_Y*I_Z + I_X*I_YZ**2 + I_XY**2*I_Z - 2*I_XY*I_YZ*I_ZX + I_Y*I_ZX**2) + I_XY*I_Y*I_YZ*w1(t)*w2(t)/(-I_X*I_Y*I_Z + I_X*I_YZ**2 + I_XY**2*I_Z - 2*I_XY*I_YZ*I_ZX + I_Y*I_ZX**2) - I_XY*I_Y*I_Z*w1(t)*w3(t)/(-I_X*I_Y*I_Z + I_X*I_YZ**2 + I_XY**2*I_Z - 2*I_XY*I_YZ*I_ZX + I_Y*I_ZX**2) - I_XY*I_Y*I_ZX*w1(t)**2/(-I_X*I_Y*I_Z + I_X*I_YZ**2 + I_XY**2*I_Z - 2*I_XY*I_YZ*I_ZX + I_Y*I_ZX**2) + I_XY*I_Y*I_ZX*w2(t)**2/(-I_X*I_Y*I_Z + I_X*I_YZ**2 + I_XY**2*I_Z - 2*I_XY*I_YZ*I_ZX + I_Y*I_ZX**2) + 2*I_XY*I_YZ**2*w1(t)*w3(t)/(-I_X*I_Y*I_Z + I_X*I_YZ**2 + I_XY**2*I_Z - 2*I_XY*I_YZ*I_ZX + I_Y*I_ZX**2) + I_XY*I_YZ*I_Z*w1(t)*w2(t)/(-I_X*I_Y*I_Z + I_X*I_YZ**2 + I_XY**2*I_Z - 2*I_XY*I_YZ*I_ZX + I_Y*I_ZX**2) - I_XY*I_YZ*M3(t)/(-I_X*I_Y*I_Z + I_X*I_YZ**2 + I_XY**2*I_Z - 2*I_XY*I_YZ*I_ZX + I_Y*I_ZX**2) + I_XY*I_Z**2*w1(t)*w3(t)/(-I_X*I_Y*I_Z + I_X*I_YZ**2 + I_XY**2*I_Z - 2*I_XY*I_YZ*I_ZX + I_Y*I_ZX**2) + I_XY*I_Z*I_ZX*w1(t)**2/(-I_X*I_Y*I_Z + I_X*I_YZ**2 + I_XY**2*I_Z - 2*I_XY*I_YZ*I_ZX + I_Y*I_ZX**2) - I_XY*I_Z*I_ZX*w3(t)**2/(-I_X*I_Y*I_Z + I_X*I_YZ**2 + I_XY**2*I_Z - 2*I_XY*I_YZ*I_ZX + I_Y*I_ZX**2) + I_XY*I_Z*M2(t)/(-I_X*I_Y*I_Z + I_X*I_YZ**2 + I_XY**2*I_Z - 2*I_XY*I_YZ*I_ZX + I_Y*I_ZX**2) - I_Y**2*I_Z*w2(t)*w3(t)/(-I_X*I_Y*I_Z + I_X*I_YZ**2 + I_XY**2*I_Z - 2*I_XY*I_YZ*I_ZX + I_Y*I_ZX**2) - I_Y**2*I_ZX*w1(t)*w2(t)/(-I_X*I_Y*I_Z + I_X*I_YZ**2 + I_XY**2*I_Z - 2*I_XY*I_YZ*I_ZX + I_Y*I_ZX**2) + I_Y*I_YZ**2*w2(t)*w3(t)/(-I_X*I_Y*I_Z + I_X*I_YZ**2 + I_XY**2*I_Z - 2*I_XY*I_YZ*I_ZX + I_Y*I_ZX**2) + I_Y*I_YZ*I_Z*w2(t)**2/(-I_X*I_Y*I_Z + I_X*I_YZ**2 + I_XY**2*I_Z - 2*I_XY*I_YZ*I_ZX + I_Y*I_ZX**2) - I_Y*I_YZ*I_Z*w3(t)**2/(-I_X*I_Y*I_Z + I_X*I_YZ**2 + I_XY**2*I_Z - 2*I_XY*I_YZ*I_ZX + I_Y*I_ZX**2) - I_Y*I_YZ*I_ZX*w1(t)*w3(t)/(-I_X*I_Y*I_Z + I_X*I_YZ**2 + I_XY**2*I_Z - 2*I_XY*I_YZ*I_ZX + I_Y*I_ZX**2) + I_Y*I_Z**2*w2(t)*w3(t)/(-I_X*I_Y*I_Z + I_X*I_YZ**2 + I_XY**2*I_Z - 2*I_XY*I_YZ*I_ZX + I_Y*I_ZX**2) + I_Y*I_Z*I_ZX*w1(t)*w2(t)/(-I_X*I_Y*I_Z + I_X*I_YZ**2 + I_XY**2*I_Z - 2*I_XY*I_YZ*I_ZX + I_Y*I_ZX**2) - I_Y*I_Z*M1(t)/(-I_X*I_Y*I_Z + I_X*I_YZ**2 + I_XY**2*I_Z - 2*I_XY*I_YZ*I_ZX + I_Y*I_ZX**2) + I_Y*I_ZX**2*w2(t)*w3(t)/(-I_X*I_Y*I_Z + I_X*I_YZ**2 + I_XY**2*I_Z - 2*I_XY*I_YZ*I_ZX + I_Y*I_ZX**2) + I_Y*I_ZX*M3(t)/(-I_X*I_Y*I_Z + I_X*I_YZ**2 + I_XY**2*I_Z - 2*I_XY*I_YZ*I_ZX + I_Y*I_ZX**2) - I_YZ**3*w2(t)**2/(-I_X*I_Y*I_Z + I_X*I_YZ**2 + I_XY**2*I_Z - 2*I_XY*I_YZ*I_ZX + I_Y*I_ZX**2) + I_YZ**3*w3(t)**2/(-I_X*I_Y*I_Z + I_X*I_YZ**2 + I_XY**2*I_Z - 2*I_XY*I_YZ*I_ZX + I_Y*I_ZX**2) - I_YZ**2*I_Z*w2(t)*w3(t)/(-I_X*I_Y*I_Z + I_X*I_YZ**2 + I_XY**2*I_Z - 2*I_XY*I_YZ*I_ZX + I_Y*I_ZX**2) - 2*I_YZ**2*I_ZX*w1(t)*w2(t)/(-I_X*I_Y*I_Z + I_X*I_YZ**2 + I_XY**2*I_Z - 2*I_XY*I_YZ*I_ZX + I_Y*I_ZX**2) + I_YZ**2*M1(t)/(-I_X*I_Y*I_Z + I_X*I_YZ**2 + I_XY**2*I_Z - 2*I_XY*I_YZ*I_ZX + I_Y*I_ZX**2) - I_YZ*I_Z*I_ZX*w1(t)*w3(t)/(-I_X*I_Y*I_Z + I_X*I_YZ**2 + I_XY**2*I_Z - 2*I_XY*I_YZ*I_ZX + I_Y*I_ZX**2) - I_YZ*I_ZX**2*w1(t)**2/(-I_X*I_Y*I_Z + I_X*I_YZ**2 + I_XY**2*I_Z - 2*I_XY*I_YZ*I_ZX + I_Y*I_ZX**2) + I_YZ*I_ZX**2*w3(t)**2/(-I_X*I_Y*I_Z + I_X*I_YZ**2 + I_XY**2*I_Z - 2*I_XY*I_YZ*I_ZX + I_Y*I_ZX**2) - I_YZ*I_ZX*M2(t)/(-I_X*I_Y*I_Z + I_X*I_YZ**2 + I_XY**2*I_Z - 2*I_XY*I_YZ*I_ZX + I_Y*I_ZX**2)\n",
      "True\n"
     ]
    }
   ],
   "source": [
    "kane_ver = simplify(accel[w1dot])\n",
    "manual_ver = simplify(w_dot_truth[0])\n",
    "\n",
    "print(expand(kane_ver))\n",
    "print(expand(manual_ver))\n",
    "\n",
    "print(expand(kane_ver) == expand(manual_ver))\n",
    "# Confirmed matches up :D "
   ]
  },
  {
   "cell_type": "code",
   "execution_count": 75,
   "metadata": {},
   "outputs": [
    {
     "data": {
      "text/latex": [
       "$\\displaystyle \\left[\\begin{matrix}u_{1}{\\left(t \\right)}\\\\u_{2}{\\left(t \\right)}\\\\u_{3}{\\left(t \\right)}\\\\w_{1}{\\left(t \\right)}\\\\w_{2}{\\left(t \\right)}\\\\- w_{s} \\theta{\\left(t \\right)} + w_{3}{\\left(t \\right)}\\\\0\\\\0\\\\0\\\\\\frac{2 w_{s} \\left(I_{XY}^{2} I_{YZ} - I_{XY} I_{Y} I_{ZX} + I_{XY} I_{Z} I_{ZX} - I_{YZ} I_{ZX}^{2}\\right) w_{1}{\\left(t \\right)} + w_{s} \\left(- I_{X} I_{XY} I_{YZ} + I_{X} I_{Y} I_{ZX} + I_{XY} I_{Y} I_{YZ} + I_{XY} I_{YZ} I_{Z} - I_{Y}^{2} I_{ZX} + I_{Y} I_{Z} I_{ZX} - 2 I_{YZ}^{2} I_{ZX}\\right) w_{2}{\\left(t \\right)} - w_{s} \\left(I_{X} I_{XY} I_{Z} - I_{X} I_{YZ} I_{ZX} + I_{XY} I_{Y} I_{Z} - 2 I_{XY} I_{YZ}^{2} - I_{XY} I_{Z}^{2} + I_{Y} I_{YZ} I_{ZX} + I_{YZ} I_{Z} I_{ZX}\\right) w_{3}{\\left(t \\right)} - \\left(I_{XY} I_{YZ} - I_{Y} I_{ZX}\\right) M_{3}{\\left(t \\right)} + \\left(I_{XY} I_{Z} - I_{YZ} I_{ZX}\\right) M_{2}{\\left(t \\right)} - \\left(I_{Y} I_{Z} - I_{YZ}^{2}\\right) M_{1}{\\left(t \\right)}}{- I_{X} I_{Y} I_{Z} + I_{X} I_{YZ}^{2} + I_{XY}^{2} I_{Z} - 2 I_{XY} I_{YZ} I_{ZX} + I_{Y} I_{ZX}^{2}}\\\\\\frac{- 2 w_{s} \\left(I_{X} I_{XY} I_{YZ} + I_{X} I_{Z} I_{ZX} - I_{XY}^{2} I_{ZX} - I_{ZX}^{3}\\right) w_{1}{\\left(t \\right)} + w_{s} \\left(I_{X}^{2} I_{Z} - I_{X} I_{YZ}^{2} - I_{X} I_{Z}^{2} - I_{X} I_{ZX}^{2} + I_{XY}^{2} I_{Z} + I_{Z} I_{ZX}^{2}\\right) w_{3}{\\left(t \\right)} - w_{s} \\left(- I_{X}^{2} I_{YZ} + I_{X} I_{XY} I_{ZX} + I_{X} I_{Y} I_{YZ} + I_{X} I_{YZ} I_{Z} - I_{XY} I_{Y} I_{ZX} + I_{XY} I_{Z} I_{ZX} - 2 I_{YZ} I_{ZX}^{2}\\right) w_{2}{\\left(t \\right)} + \\left(I_{X} I_{YZ} - I_{XY} I_{ZX}\\right) M_{3}{\\left(t \\right)} - \\left(I_{X} I_{Z} - I_{ZX}^{2}\\right) M_{2}{\\left(t \\right)} + \\left(I_{XY} I_{Z} - I_{YZ} I_{ZX}\\right) M_{1}{\\left(t \\right)}}{- I_{X} I_{Y} I_{Z} + I_{X} I_{YZ}^{2} + I_{XY}^{2} I_{Z} - 2 I_{XY} I_{YZ} I_{ZX} + I_{Y} I_{ZX}^{2}}\\\\\\frac{w_{s} \\left(I_{X} I_{YZ} \\left(I_{X} I_{Y} - I_{XY}^{2}\\right) + I_{XY} I_{ZX} \\left(I_{X} I_{Y} - I_{XY}^{2}\\right) - \\left(I_{X} I_{YZ} - I_{XY} I_{ZX}\\right) \\left(I_{X} \\left(I_{X} - I_{Z}\\right) + I_{XY}^{2}\\right)\\right) \\left(- I_{X} I_{Y} I_{Z} + I_{X} I_{YZ}^{2} + I_{XY}^{2} I_{Z} - 2 I_{XY} I_{YZ} I_{ZX} + I_{Y} I_{ZX}^{2}\\right) w_{3}{\\left(t \\right)} + \\left(- I_{X} I_{Z} \\left(I_{X} I_{Y} - I_{XY}^{2}\\right) + I_{ZX}^{2} \\left(I_{X} I_{Y} - I_{XY}^{2}\\right) + \\left(I_{X} I_{YZ} - I_{XY} I_{ZX}\\right)^{2}\\right) \\left(2 w_{s} \\left(I_{X} I_{XY} I_{Y} + I_{X} I_{YZ} I_{ZX} - I_{XY}^{3} - I_{XY} I_{ZX}^{2}\\right) w_{1}{\\left(t \\right)} - w_{s} \\left(I_{X}^{2} I_{Y} - I_{X} I_{XY}^{2} - I_{X} I_{Y}^{2} - I_{X} I_{YZ}^{2} + I_{XY}^{2} I_{Y} + I_{Y} I_{ZX}^{2}\\right) w_{2}{\\left(t \\right)} - \\left(I_{X} I_{Y} - I_{XY}^{2}\\right) M_{3}{\\left(t \\right)} + \\left(I_{X} I_{YZ} - I_{XY} I_{ZX}\\right) M_{2}{\\left(t \\right)} - \\left(I_{XY} I_{YZ} - I_{Y} I_{ZX}\\right) M_{1}{\\left(t \\right)}\\right)}{\\left(- I_{X} I_{Z} \\left(I_{X} I_{Y} - I_{XY}^{2}\\right) + I_{ZX}^{2} \\left(I_{X} I_{Y} - I_{XY}^{2}\\right) + \\left(I_{X} I_{YZ} - I_{XY} I_{ZX}\\right)^{2}\\right) \\left(- I_{X} I_{Y} I_{Z} + I_{X} I_{YZ}^{2} + I_{XY}^{2} I_{Z} - 2 I_{XY} I_{YZ} I_{ZX} + I_{Y} I_{ZX}^{2}\\right)}\\end{matrix}\\right]$"
      ],
      "text/plain": [
       "Matrix([\n",
       "[                                                                                                                                                                                                                                                                                                                                                                                                                                                                                                                                                                                                                                                                                                                                      u1(t)],\n",
       "[                                                                                                                                                                                                                                                                                                                                                                                                                                                                                                                                                                                                                                                                                                                                      u2(t)],\n",
       "[                                                                                                                                                                                                                                                                                                                                                                                                                                                                                                                                                                                                                                                                                                                                      u3(t)],\n",
       "[                                                                                                                                                                                                                                                                                                                                                                                                                                                                                                                                                                                                                                                                                                                                      w1(t)],\n",
       "[                                                                                                                                                                                                                                                                                                                                                                                                                                                                                                                                                                                                                                                                                                                                      w2(t)],\n",
       "[                                                                                                                                                                                                                                                                                                                                                                                                                                                                                                                                                                                                                                                                                                                      -w_s*theta(t) + w3(t)],\n",
       "[                                                                                                                                                                                                                                                                                                                                                                                                                                                                                                                                                                                                                                                                                                                                          0],\n",
       "[                                                                                                                                                                                                                                                                                                                                                                                                                                                                                                                                                                                                                                                                                                                                          0],\n",
       "[                                                                                                                                                                                                                                                                                                                                                                                                                                                                                                                                                                                                                                                                                                                                          0],\n",
       "[                                                                                                                                                                                                                                       (2*w_s*(I_XY**2*I_YZ - I_XY*I_Y*I_ZX + I_XY*I_Z*I_ZX - I_YZ*I_ZX**2)*w1(t) + w_s*(-I_X*I_XY*I_YZ + I_X*I_Y*I_ZX + I_XY*I_Y*I_YZ + I_XY*I_YZ*I_Z - I_Y**2*I_ZX + I_Y*I_Z*I_ZX - 2*I_YZ**2*I_ZX)*w2(t) - w_s*(I_X*I_XY*I_Z - I_X*I_YZ*I_ZX + I_XY*I_Y*I_Z - 2*I_XY*I_YZ**2 - I_XY*I_Z**2 + I_Y*I_YZ*I_ZX + I_YZ*I_Z*I_ZX)*w3(t) - (I_XY*I_YZ - I_Y*I_ZX)*M3(t) + (I_XY*I_Z - I_YZ*I_ZX)*M2(t) - (I_Y*I_Z - I_YZ**2)*M1(t))/(-I_X*I_Y*I_Z + I_X*I_YZ**2 + I_XY**2*I_Z - 2*I_XY*I_YZ*I_ZX + I_Y*I_ZX**2)],\n",
       "[                                                                                                                                                                                                                                                                       (-2*w_s*(I_X*I_XY*I_YZ + I_X*I_Z*I_ZX - I_XY**2*I_ZX - I_ZX**3)*w1(t) + w_s*(I_X**2*I_Z - I_X*I_YZ**2 - I_X*I_Z**2 - I_X*I_ZX**2 + I_XY**2*I_Z + I_Z*I_ZX**2)*w3(t) - w_s*(-I_X**2*I_YZ + I_X*I_XY*I_ZX + I_X*I_Y*I_YZ + I_X*I_YZ*I_Z - I_XY*I_Y*I_ZX + I_XY*I_Z*I_ZX - 2*I_YZ*I_ZX**2)*w2(t) + (I_X*I_YZ - I_XY*I_ZX)*M3(t) - (I_X*I_Z - I_ZX**2)*M2(t) + (I_XY*I_Z - I_YZ*I_ZX)*M1(t))/(-I_X*I_Y*I_Z + I_X*I_YZ**2 + I_XY**2*I_Z - 2*I_XY*I_YZ*I_ZX + I_Y*I_ZX**2)],\n",
       "[(w_s*(I_X*I_YZ*(I_X*I_Y - I_XY**2) + I_XY*I_ZX*(I_X*I_Y - I_XY**2) - (I_X*I_YZ - I_XY*I_ZX)*(I_X*(I_X - I_Z) + I_XY**2))*(-I_X*I_Y*I_Z + I_X*I_YZ**2 + I_XY**2*I_Z - 2*I_XY*I_YZ*I_ZX + I_Y*I_ZX**2)*w3(t) + (-I_X*I_Z*(I_X*I_Y - I_XY**2) + I_ZX**2*(I_X*I_Y - I_XY**2) + (I_X*I_YZ - I_XY*I_ZX)**2)*(2*w_s*(I_X*I_XY*I_Y + I_X*I_YZ*I_ZX - I_XY**3 - I_XY*I_ZX**2)*w1(t) - w_s*(I_X**2*I_Y - I_X*I_XY**2 - I_X*I_Y**2 - I_X*I_YZ**2 + I_XY**2*I_Y + I_Y*I_ZX**2)*w2(t) - (I_X*I_Y - I_XY**2)*M3(t) + (I_X*I_YZ - I_XY*I_ZX)*M2(t) - (I_XY*I_YZ - I_Y*I_ZX)*M1(t)))/((-I_X*I_Z*(I_X*I_Y - I_XY**2) + I_ZX**2*(I_X*I_Y - I_XY**2) + (I_X*I_YZ - I_XY*I_ZX)**2)*(-I_X*I_Y*I_Z + I_X*I_YZ**2 + I_XY**2*I_Z - 2*I_XY*I_YZ*I_ZX + I_Y*I_ZX**2))]])"
      ]
     },
     "execution_count": 75,
     "metadata": {},
     "output_type": "execute_result"
    }
   ],
   "source": [
    "# linearize(op_point=None, A_and_B=False, simplify=False)\n",
    "x0, y0, z0 = symbols('x0 y0 z0')\n",
    "w_x_s = symbols('w_s') # Linearize about spin rate\n",
    "\n",
    "op_point = {\n",
    "    x: 0,\n",
    "    y: 0,\n",
    "    z: 0,\n",
    "    phidot: 0,\n",
    "    thetadot: 0,\n",
    "    psidot: 0,\n",
    "    w1: w_x_s,\n",
    "    w2: 0,\n",
    "    w3: 0,\n",
    "    theta: 0,\n",
    "    phi: 0,\n",
    "    psi: 0,\n",
    "    u1: 0,\n",
    "    u2: 0,\n",
    "    u3: 0,\n",
    "    M1: 0,\n",
    "    t_M1: 0,\n",
    "}\n",
    "# oordinates = [x, y, z, phi, theta, psi]\n",
    "# speeds = [u1, u2, u3, u4, u5, u6]\n",
    "linearizer  = kane.to_linearizer()\n",
    "linearizer.r = Matrix([M1, M2, M3]) # can use to reorganize inputs\n",
    "A, B = linearizer.linearize(A_and_B=True, op_point=[op_point], simplify = True)\n",
    "\n",
    "trigsimp(A*Matrix([linearizer.q, linearizer.u]))\n",
    "\n",
    "trigsimp(B*linearizer.r)\n",
    "\n",
    "eoms = trigsimp(A*Matrix([linearizer.q, linearizer.u]) + B*linearizer.r)\n",
    "simplify(eoms)\n",
    "# x_dot = Ax+B\n",
    "#x_dot = A*Matrix([linearizer.q, linearizer.u]) + B*linearizer.r\n",
    "\n",
    "\n",
    "\n"
   ]
  },
  {
   "cell_type": "code",
   "execution_count": 76,
   "metadata": {},
   "outputs": [
    {
     "data": {
      "text/latex": [
       "$\\displaystyle \\frac{I_{X}^{2} w_{s}^{2} - I_{X} I_{Y} w_{s}^{2} - I_{X} I_{Z} w_{s}^{2} + I_{Y} I_{Z} s^{2} + I_{Y} I_{Z} w_{s}^{2} - I_{YZ}^{2} s^{2} - I_{YZ}^{2} w_{s}^{2}}{I_{X}^{3} s w_{s}^{2} - I_{X}^{2} I_{Y} s w_{s}^{2} - I_{X}^{2} I_{Z} s w_{s}^{2} + 3 I_{X} I_{XY}^{2} s w_{s}^{2} + I_{X} I_{Y} I_{Z} s^{3} + I_{X} I_{Y} I_{Z} s w_{s}^{2} - I_{X} I_{YZ}^{2} s^{3} - I_{X} I_{YZ}^{2} s w_{s}^{2} + 3 I_{X} I_{ZX}^{2} s w_{s}^{2} + I_{XY}^{2} I_{Y} s w_{s}^{2} - 2 I_{XY}^{2} I_{YZ} w_{s}^{3} - I_{XY}^{2} I_{Z} s^{3} - 2 I_{XY}^{2} I_{Z} s w_{s}^{2} + 2 I_{XY} I_{Y} I_{ZX} w_{s}^{3} + 2 I_{XY} I_{YZ} I_{ZX} s^{3} + 6 I_{XY} I_{YZ} I_{ZX} s w_{s}^{2} - 2 I_{XY} I_{Z} I_{ZX} w_{s}^{3} - I_{Y} I_{ZX}^{2} s^{3} - 2 I_{Y} I_{ZX}^{2} s w_{s}^{2} + 2 I_{YZ} I_{ZX}^{2} w_{s}^{3} + I_{Z} I_{ZX}^{2} s w_{s}^{2}}$"
      ],
      "text/plain": [
       "(I_X**2*w_s**2 - I_X*I_Y*w_s**2 - I_X*I_Z*w_s**2 + I_Y*I_Z*s**2 + I_Y*I_Z*w_s**2 - I_YZ**2*s**2 - I_YZ**2*w_s**2)/(I_X**3*s*w_s**2 - I_X**2*I_Y*s*w_s**2 - I_X**2*I_Z*s*w_s**2 + 3*I_X*I_XY**2*s*w_s**2 + I_X*I_Y*I_Z*s**3 + I_X*I_Y*I_Z*s*w_s**2 - I_X*I_YZ**2*s**3 - I_X*I_YZ**2*s*w_s**2 + 3*I_X*I_ZX**2*s*w_s**2 + I_XY**2*I_Y*s*w_s**2 - 2*I_XY**2*I_YZ*w_s**3 - I_XY**2*I_Z*s**3 - 2*I_XY**2*I_Z*s*w_s**2 + 2*I_XY*I_Y*I_ZX*w_s**3 + 2*I_XY*I_YZ*I_ZX*s**3 + 6*I_XY*I_YZ*I_ZX*s*w_s**2 - 2*I_XY*I_Z*I_ZX*w_s**3 - I_Y*I_ZX**2*s**3 - 2*I_Y*I_ZX**2*s*w_s**2 + 2*I_YZ*I_ZX**2*w_s**3 + I_Z*I_ZX**2*s*w_s**2)"
      ]
     },
     "execution_count": 76,
     "metadata": {},
     "output_type": "execute_result"
    }
   ],
   "source": [
    "# Symbolic transfer function\n",
    "A_att = A[9:, 9:]\n",
    "B_att = B[9:, :]\n",
    "s = symbols('s')\n",
    "C = Matrix([1, 0, 0]).transpose()\n",
    "\n",
    "I = eye(A_att.shape[0])\n",
    "\n",
    "G_s = simplify(C * (s * I - A_att).inv() * B_att)\n",
    "\n",
    "G_s[0]"
   ]
  },
  {
   "cell_type": "code",
   "execution_count": 77,
   "metadata": {},
   "outputs": [
    {
     "data": {
      "text/latex": [
       "$\\displaystyle \\left[\\begin{matrix}\\frac{I_{Y} I_{Z} - I_{YZ}^{2}}{I_{X} I_{Y} I_{Z} - I_{X} I_{YZ}^{2} - I_{XY}^{2} I_{Z} + 2 I_{XY} I_{YZ} I_{ZX} - I_{Y} I_{ZX}^{2}} & \\frac{- I_{XY} I_{Z} + I_{YZ} I_{ZX}}{I_{X} I_{Y} I_{Z} - I_{X} I_{YZ}^{2} - I_{XY}^{2} I_{Z} + 2 I_{XY} I_{YZ} I_{ZX} - I_{Y} I_{ZX}^{2}} & \\frac{I_{XY} I_{YZ} - I_{Y} I_{ZX}}{I_{X} I_{Y} I_{Z} - I_{X} I_{YZ}^{2} - I_{XY}^{2} I_{Z} + 2 I_{XY} I_{YZ} I_{ZX} - I_{Y} I_{ZX}^{2}}\\\\\\frac{- I_{XY} I_{Z} + I_{YZ} I_{ZX}}{I_{X} I_{Y} I_{Z} - I_{X} I_{YZ}^{2} - I_{XY}^{2} I_{Z} + 2 I_{XY} I_{YZ} I_{ZX} - I_{Y} I_{ZX}^{2}} & \\frac{I_{X} I_{Z} - I_{ZX}^{2}}{I_{X} I_{Y} I_{Z} - I_{X} I_{YZ}^{2} - I_{XY}^{2} I_{Z} + 2 I_{XY} I_{YZ} I_{ZX} - I_{Y} I_{ZX}^{2}} & \\frac{- I_{X} I_{YZ} + I_{XY} I_{ZX}}{I_{X} I_{Y} I_{Z} - I_{X} I_{YZ}^{2} - I_{XY}^{2} I_{Z} + 2 I_{XY} I_{YZ} I_{ZX} - I_{Y} I_{ZX}^{2}}\\\\\\frac{I_{XY} I_{YZ} - I_{Y} I_{ZX}}{I_{X} I_{Y} I_{Z} - I_{X} I_{YZ}^{2} - I_{XY}^{2} I_{Z} + 2 I_{XY} I_{YZ} I_{ZX} - I_{Y} I_{ZX}^{2}} & \\frac{- I_{X} I_{YZ} + I_{XY} I_{ZX}}{I_{X} I_{Y} I_{Z} - I_{X} I_{YZ}^{2} - I_{XY}^{2} I_{Z} + 2 I_{XY} I_{YZ} I_{ZX} - I_{Y} I_{ZX}^{2}} & \\frac{I_{X} I_{Y} - I_{XY}^{2}}{I_{X} I_{Y} I_{Z} - I_{X} I_{YZ}^{2} - I_{XY}^{2} I_{Z} + 2 I_{XY} I_{YZ} I_{ZX} - I_{Y} I_{ZX}^{2}}\\end{matrix}\\right]$"
      ],
      "text/plain": [
       "Matrix([\n",
       "[    (I_Y*I_Z - I_YZ**2)/(I_X*I_Y*I_Z - I_X*I_YZ**2 - I_XY**2*I_Z + 2*I_XY*I_YZ*I_ZX - I_Y*I_ZX**2), (-I_XY*I_Z + I_YZ*I_ZX)/(I_X*I_Y*I_Z - I_X*I_YZ**2 - I_XY**2*I_Z + 2*I_XY*I_YZ*I_ZX - I_Y*I_ZX**2),  (I_XY*I_YZ - I_Y*I_ZX)/(I_X*I_Y*I_Z - I_X*I_YZ**2 - I_XY**2*I_Z + 2*I_XY*I_YZ*I_ZX - I_Y*I_ZX**2)],\n",
       "[(-I_XY*I_Z + I_YZ*I_ZX)/(I_X*I_Y*I_Z - I_X*I_YZ**2 - I_XY**2*I_Z + 2*I_XY*I_YZ*I_ZX - I_Y*I_ZX**2),     (I_X*I_Z - I_ZX**2)/(I_X*I_Y*I_Z - I_X*I_YZ**2 - I_XY**2*I_Z + 2*I_XY*I_YZ*I_ZX - I_Y*I_ZX**2), (-I_X*I_YZ + I_XY*I_ZX)/(I_X*I_Y*I_Z - I_X*I_YZ**2 - I_XY**2*I_Z + 2*I_XY*I_YZ*I_ZX - I_Y*I_ZX**2)],\n",
       "[ (I_XY*I_YZ - I_Y*I_ZX)/(I_X*I_Y*I_Z - I_X*I_YZ**2 - I_XY**2*I_Z + 2*I_XY*I_YZ*I_ZX - I_Y*I_ZX**2), (-I_X*I_YZ + I_XY*I_ZX)/(I_X*I_Y*I_Z - I_X*I_YZ**2 - I_XY**2*I_Z + 2*I_XY*I_YZ*I_ZX - I_Y*I_ZX**2),     (I_X*I_Y - I_XY**2)/(I_X*I_Y*I_Z - I_X*I_YZ**2 - I_XY**2*I_Z + 2*I_XY*I_YZ*I_ZX - I_Y*I_ZX**2)]])"
      ]
     },
     "execution_count": 77,
     "metadata": {},
     "output_type": "execute_result"
    }
   ],
   "source": [
    "B_att"
   ]
  },
  {
   "cell_type": "code",
   "execution_count": 78,
   "metadata": {},
   "outputs": [],
   "source": [
    "# Sub mass properties in and create linear model to use for controls\n",
    "I_SC = np.array([\n",
    "            [2402.52, 36.33, 78.17],\n",
    "            [36.33, 2072.58, -67.71],\n",
    "            [78.17, -67.71, 2022.10]\n",
    "        ])\n",
    "spin_rate = np.deg2rad(1.0)\n",
    "A_numeric = A_att.subs({I_x: I_SC[0,0], I_y: I_SC[1,1], I_z: I_SC[2,2], I_xy: I_SC[0,1], I_yz: I_SC[1,2], I_zx: I_SC[0,2], w_x_s: spin_rate}).evalf()\n",
    "B_numeric = B_att.subs({I_x: I_SC[0,0], I_y: I_SC[1,1], I_z: I_SC[2,2], I_xy: I_SC[0,1], I_yz: I_SC[1,2], I_zx: I_SC[0,2], w_x_s: spin_rate}).evalf()\n",
    "\n",
    "# Convert SymPy matrices to NumPy arrays\n",
    "A_np = np.array(A_numeric.tolist(), dtype=float)\n",
    "B_np = np.array(B_numeric.tolist(), dtype=float)\n",
    "\n"
   ]
  },
  {
   "cell_type": "code",
   "execution_count": 85,
   "metadata": {},
   "outputs": [
    {
     "data": {
      "text/plain": [
       "<control.ctrlplot.ControlPlot at 0x175230571d0>"
      ]
     },
     "execution_count": 85,
     "metadata": {},
     "output_type": "execute_result"
    },
    {
     "data": {
      "image/png": "[encoded data removed]",
      "text/plain": [
       "<Figure size 640x480 with 3 Axes>"
      ]
     },
     "metadata": {},
     "output_type": "display_data"
    }
   ],
   "source": [
    "\n",
    "# Define state-space system\n",
    "C_np = np.array([1, 0, 0])\n",
    "D_np = np.array([0,0,0])\n",
    "sys = control.ss(A_np, B_np, C_np, D_np)\n",
    "\n",
    "# Convert to transfer function\n",
    "\n",
    "response = control.step_response(sys)\n",
    "response.plot()"
   ]
  },
  {
   "cell_type": "code",
   "execution_count": 101,
   "metadata": {},
   "outputs": [
    {
     "data": {
      "text/latex": [
       "$$\\frac{0.0004832 s^2 - 2.877 \\times 10^{-7} s + 8.007 \\times 10^{-11}}{s^3 - 7.251 \\times 10^{-19} s^2 + 9.93 \\times 10^{-6} s - 1.917 \\times 10^{-10}}$$"
      ],
      "text/plain": [
       "TransferFunction(array([ 4.83166351e-04, -2.87665097e-07,  8.00735651e-11]), array([ 1.00000000e+00, -7.25060203e-19,  9.93027685e-06, -1.91671458e-10]))"
      ]
     },
     "execution_count": 101,
     "metadata": {},
     "output_type": "execute_result"
    }
   ],
   "source": [
    "B_y = B_np[:, 1]\n",
    "D_y = 0\n",
    "C_y = np.array([0, 1, 0])\n",
    "sys_y = control.ss(A_np, B_y, C_y, D_y)\n",
    "\n",
    "control.ss2tf(sys_y)"
   ]
  },
  {
   "cell_type": "code",
   "execution_count": 134,
   "metadata": {},
   "outputs": [
    {
     "data": {
      "text/plain": [
       "<control.ctrlplot.ControlPlot at 0x1752a000b40>"
      ]
     },
     "execution_count": 134,
     "metadata": {},
     "output_type": "execute_result"
    },
    {
     "data": {
      "image/png": "[encoded data removed]",
      "text/plain": [
       "<Figure size 640x480 with 1 Axes>"
      ]
     },
     "metadata": {},
     "output_type": "display_data"
    }
   ],
   "source": [
    "#tf = control.ss2tf(sys\n",
    "#kp = np.array([1500.0, 1800.0, 1800.0])\n",
    "kp = 1800\n",
    "ki = 800 \n",
    "#ki = np.array([800.0, 800.0, 800.0])\n",
    "control_tf = control.TransferFunction(\n",
    "    [kp, ki], [1, 0])\n",
    "sys_fd_y = control.feedback(sys_y, control_tf)\n",
    "T = np.linspace(0, 100)\n",
    "X0 = np.array([0.01, 0.01, 0.01, 0])\n",
    "response_cl = control.initial_response(sys_fd_y, T, X0 = X0)\n",
    "response_cl.plot()"
   ]
  },
  {
   "cell_type": "code",
   "execution_count": 123,
   "metadata": {},
   "outputs": [
    {
     "data": {
      "text/latex": [
       "$$\\frac{1800 s + 800}{s}$$"
      ],
      "text/plain": [
       "TransferFunction(array([1800,  800]), array([1, 0]))"
      ]
     },
     "execution_count": 123,
     "metadata": {},
     "output_type": "execute_result"
    }
   ],
   "source": [
    "control_tf"
   ]
  }
 ],
 "metadata": {
  "kernelspec": {
   "display_name": "Python 3",
   "language": "python",
   "name": "python3"
  },
  "language_info": {
   "codemirror_mode": {
    "name": "ipython",
    "version": 3
   },
   "file_extension": ".py",
   "mimetype": "text/x-python",
   "name": "python",
   "nbconvert_exporter": "python",
   "pygments_lexer": "ipython3",
   "version": "3.13.2"
  }
 },
 "nbformat": 4,
 "nbformat_minor": 2
}
